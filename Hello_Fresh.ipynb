{
 "cells": [
  {
   "cell_type": "code",
   "execution_count": 2,
   "metadata": {},
   "outputs": [],
   "source": [
    "import numpy as np\n",
    "import matplotlib.pyplot as plt\n",
    "import tensorflow as tf\n",
    "from tensorflow.keras.preprocessing.image import ImageDataGenerator"
   ]
  },
  {
   "cell_type": "code",
   "execution_count": 9,
   "metadata": {},
   "outputs": [
    {
     "name": "stdout",
     "output_type": "stream",
     "text": [
      "Found 2288 images belonging to 2 classes.\n"
     ]
    }
   ],
   "source": [
    "train_dir = '\\\\Users\\\\somdd\\\\Documents\\\\Flatiron\\\\Phase_5\\\\Hello-Fresh\\\\train\\\\train'\n",
    "train_datagen = ImageDataGenerator(rescale = 1./255, validation_split = .2)\n",
    "train_generator = train_datagen.flow_from_directory(train_dir, target_size = (224, 224),\n",
    "                                                    color_mode = 'rgb', batch_size = 32,\n",
    "                                                    class_mode = 'categorical'\n",
    "                                                   )"
   ]
  },
  {
   "cell_type": "code",
   "execution_count": 10,
   "metadata": {},
   "outputs": [
    {
     "name": "stdout",
     "output_type": "stream",
     "text": [
      "Found 456 images belonging to 2 classes.\n"
     ]
    }
   ],
   "source": [
    "validation_generator = train_datagen.flow_from_directory(train_dir, target_size = (224, 224), \n",
    "                                                         color_mode = 'rgb', batch_size = 32,\n",
    "                                                         class_mode = 'categorical', subset = 'validation'\n",
    "                                                        )"
   ]
  },
  {
   "cell_type": "code",
   "execution_count": 11,
   "metadata": {},
   "outputs": [
    {
     "name": "stdout",
     "output_type": "stream",
     "text": [
      "Found 980 images belonging to 2 classes.\n"
     ]
    }
   ],
   "source": [
    "test_dir = '\\\\Users\\\\somdd\\Documents\\\\Flatiron\\\\Phase_5\\\\Hello-Fresh\\\\test\\\\test'\n",
    "test_datagen = ImageDataGenerator(rescale = 1./255)\n",
    "test_generator = test_datagen.flow_from_directory(test_dir, target_size = (224, 224),\n",
    "                                                    color_mode = 'rgb', batch_size = 32,\n",
    "                                                    class_mode = 'categorical'\n",
    "                                                   )"
   ]
  },
  {
   "cell_type": "code",
   "execution_count": 12,
   "metadata": {},
   "outputs": [
    {
     "name": "stdout",
     "output_type": "stream",
     "text": [
      "Meat Quality [(0, 1144), (1, 1144)]\n"
     ]
    }
   ],
   "source": [
    "meat_labels = train_generator.classes\n",
    "meat_label, meat_count = np.unique(meat_labels, return_counts=True)\n",
    "print('Meat Quality {}'.format(list(zip(meat_label, meat_count))))"
   ]
  },
  {
   "cell_type": "code",
   "execution_count": null,
   "metadata": {},
   "outputs": [],
   "source": []
  }
 ],
 "metadata": {
  "kernelspec": {
   "display_name": "sweatymeats",
   "language": "python",
   "name": "sweatymeats"
  },
  "language_info": {
   "codemirror_mode": {
    "name": "ipython",
    "version": 3
   },
   "file_extension": ".py",
   "mimetype": "text/x-python",
   "name": "python",
   "nbconvert_exporter": "python",
   "pygments_lexer": "ipython3",
   "version": "3.10.9"
  }
 },
 "nbformat": 4,
 "nbformat_minor": 4
}
