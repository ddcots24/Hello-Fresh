{
 "cells": [
  {
   "cell_type": "code",
   "execution_count": 204,
   "metadata": {},
   "outputs": [],
   "source": [
    "from bs4 import BeautifulSoup\n",
    "import requests\n",
    "import time"
   ]
  },
  {
   "cell_type": "code",
   "execution_count": 40,
   "metadata": {},
   "outputs": [],
   "source": [
    "headers = {'user-agent': \"Mozilla/5.0 (Windows NT 10.0; Win64; x64) AppleWebKit/537.36 (KHTML, like Gecko) Chrome/114.0.0.0 Safari/537.36\"}\n",
    "html_page = requests.get('https://www.trustpilot.com/review/hellofresh.com', headers = headers)\n",
    "soup = BeautifulSoup(html_page.content, 'html.parser')"
   ]
  },
  {
   "cell_type": "code",
   "execution_count": 288,
   "metadata": {},
   "outputs": [],
   "source": [
    "s = soup.prettify"
   ]
  },
  {
   "cell_type": "code",
   "execution_count": 76,
   "metadata": {},
   "outputs": [],
   "source": [
    "content = soup.find('div', class_ = \"styles_reviewContent__0Q2Tg\")"
   ]
  },
  {
   "cell_type": "code",
   "execution_count": 77,
   "metadata": {},
   "outputs": [
    {
     "data": {
      "text/plain": [
       "\"Horrible company to deal, impossible to cancel an order that hasn't even happened yet. They charge your card even if you do manage to cancel your order. No reminders at all about upcoming meals in case you wanted to cancel or suspend deliveries. Customer service on the phone is horrendous all they say is I can't do that, they'll never grab a manager to help fix the problem. Horrible Horrible company\""
      ]
     },
     "execution_count": 77,
     "metadata": {},
     "output_type": "execute_result"
    }
   ],
   "source": [
    "content.find('p').text"
   ]
  },
  {
   "cell_type": "code",
   "execution_count": 289,
   "metadata": {},
   "outputs": [],
   "source": [
    "new = soup.findAll('div', class_ = \"styles_reviewCardInner__EwDq2\")"
   ]
  },
  {
   "cell_type": "code",
   "execution_count": 290,
   "metadata": {},
   "outputs": [],
   "source": [
    "text = soup.findAll('p', class_ = 'typography_body-l__KUYFJ')"
   ]
  },
  {
   "cell_type": "code",
   "execution_count": 236,
   "metadata": {},
   "outputs": [],
   "source": [
    "def scrape_review_pages(page_start, page_end):\n",
    "    headers = {'user-agent': \"Mozilla/5.0 (Windows NT 10.0; Win64; x64) AppleWebKit/537.36 (KHTML, like Gecko) Chrome/114.0.0.0 Safari/537.36\"}\n",
    "    reviews = []\n",
    "    for i in range(page_start, page_end):\n",
    "        url = 'https://www.trustpilot.com/review/hellofresh.com?page=' + str(i)\n",
    "        try:\n",
    "            html_page = requests.get(url, headers = headers)\n",
    "            #print(url)\n",
    "            html_page.raise_for_status()\n",
    "            soup = BeautifulSoup(html_page.content, 'html.parser')\n",
    "            review_elements = soup.find_all(\"article\", class_=\"styles_reviewCard__hcAvl\")\n",
    "            for review_element in review_elements:\n",
    "                review_text = review_element.find(\"p\", class_=\"typography_body-l__KUYFJ\")\n",
    "                #print(review_text)\n",
    "                if review_text is not None:\n",
    "                    review_text = review_text.text.strip()\n",
    "                else:\n",
    "                    review_text = \"No review text available.\"\n",
    "                review_score_tag = review_element.find(\"div\", class_=\"star-rating_starRating__4rrcf\")\n",
    "                if review_score_tag is not None:\n",
    "                    review_score = int(review_score_tag.img['alt'].split()[1])\n",
    "                else:\n",
    "                    review_score = 0\n",
    "                #print(review_score)\n",
    "                review_object = {\"text\": review_text, \"score\": review_score}\n",
    "                reviews.append(review_object)\n",
    "            time.sleep(3)\n",
    "        except requests.exceptions.RequestException as e:\n",
    "            print(f\"Error fetching page {i}: {e}\")\n",
    "            continue\n",
    "    return reviews"
   ]
  },
  {
   "cell_type": "code",
   "execution_count": 222,
   "metadata": {},
   "outputs": [],
   "source": [
    "Hello_fresh_reviews = scrape_review_pages(2,275)\n",
    "hf2 = scrape_review_pages(275,447)\n",
    "hf3 = scrape_review_pages(447, 597)\n",
    "hf4 = scrape_review_pages(597, 747)\n",
    "hf5 = scrape_review_pages(747,900)\n",
    "hf6 = scrape_review_pages(900,1100)\n",
    "hf7 = scrape_review_pages(1100,1275)\n",
    "hf8 = scrape_review_pages(1275,1475)\n",
    "hf9 = scrape_review_pages(1475,1675)\n",
    "hf10 = scrape_review_pages(1675,1875)\n",
    "hf11 = scrape_review_pages(1875,2075)\n",
    "hf12 = scrape_review_pages(2075,2200)\n",
    "hf13 = scrape_review_pages(2200,2346)"
   ]
  },
  {
   "cell_type": "code",
   "execution_count": 271,
   "metadata": {},
   "outputs": [],
   "source": [
    "import pandas as pd\n",
    "df = pd.DataFrame(Hello_fresh_reviews)\n",
    "df2 = pd.DataFrame(hf2)\n",
    "df3 = pd.DataFrame(hf3)\n",
    "df4 = pd.DataFrame(hf4)\n",
    "df5 = pd.DataFrame(hf5)\n",
    "df6 = pd.DataFrame(hf6)\n",
    "df7 = pd.DataFrame(hf7)\n",
    "df8 = pd.DataFrame(hf8)\n",
    "df9 = pd.DataFrame(hf9)\n",
    "df10 = pd.DataFrame(hf10)\n",
    "df11 = pd.DataFrame(hf11)\n",
    "df12 = pd.DataFrame(hf12)\n",
    "df13 = pd.DataFrame(hf13)"
   ]
  },
  {
   "cell_type": "code",
   "execution_count": 313,
   "metadata": {
    "scrolled": true
   },
   "outputs": [],
   "source": [
    "fresh_df = pd.concat([df, df2, df3, df4, df5, df6, df7, df8, df9, df10, df11, df12, df13], 0)"
   ]
  },
  {
   "cell_type": "code",
   "execution_count": 314,
   "metadata": {},
   "outputs": [],
   "source": [
    "hello_fresh_df = fresh_df.reset_index(drop = True)"
   ]
  },
  {
   "cell_type": "code",
   "execution_count": 316,
   "metadata": {},
   "outputs": [
    {
     "data": {
      "text/plain": [
       "Int64Index([  121,   131,   135,   141,   149,   151,   154,   158,   163,\n",
       "              165,\n",
       "            ...\n",
       "            42940, 42954, 42997, 43191, 43348, 44226, 45000, 45255, 45315,\n",
       "            45731],\n",
       "           dtype='int64', length=2352)"
      ]
     },
     "execution_count": 316,
     "metadata": {},
     "output_type": "execute_result"
    }
   ],
   "source": [
    "hello_fresh_df[hello_fresh_df['text'] == \"No review text available.\"].index"
   ]
  },
  {
   "cell_type": "code",
   "execution_count": 317,
   "metadata": {},
   "outputs": [],
   "source": [
    "hello_fresh_df = hello_fresh_df.drop(hello_fresh_df[hello_fresh_df['text'] == \"No review text available.\"].index)"
   ]
  },
  {
   "cell_type": "code",
   "execution_count": 318,
   "metadata": {},
   "outputs": [],
   "source": [
    "hello_fresh_df = hello_fresh_df.reset_index(drop=True)"
   ]
  },
  {
   "cell_type": "code",
   "execution_count": 320,
   "metadata": {},
   "outputs": [],
   "source": [
    "changing_numeric_tosentiment = {1 : \"negative\", \n",
    "                              2:\"negative\", \n",
    "                              3: \"neutral\", \n",
    "                              4: \"positive\", \n",
    "                              5: \"positive\" }\n",
    "hello_fresh_df['score'] = hello_fresh_df['score'].replace(changing_numeric_tosentiment)"
   ]
  },
  {
   "cell_type": "code",
   "execution_count": 323,
   "metadata": {},
   "outputs": [
    {
     "name": "stdout",
     "output_type": "stream",
     "text": [
      "<class 'pandas.core.frame.DataFrame'>\n",
      "RangeIndex: 44528 entries, 0 to 44527\n",
      "Data columns (total 2 columns):\n",
      " #   Column  Non-Null Count  Dtype \n",
      "---  ------  --------------  ----- \n",
      " 0   text    44528 non-null  object\n",
      " 1   score   44528 non-null  object\n",
      "dtypes: object(2)\n",
      "memory usage: 695.9+ KB\n"
     ]
    }
   ],
   "source": [
    "hello_fresh_df.info()"
   ]
  },
  {
   "cell_type": "markdown",
   "metadata": {},
   "source": [
    "## Topic Modeling"
   ]
  },
  {
   "cell_type": "code",
   "execution_count": 349,
   "metadata": {},
   "outputs": [],
   "source": [
    "import numpy as np\n",
    "import pandas as pd\n",
    "import seaborn as sns\n",
    "import matplotlib.pyplot as plt\n",
    "import re  \n",
    "import nltk \n",
    "from nltk.tokenize import word_tokenize\n",
    "from nltk import WordNetLemmatizer\n",
    "from nltk.corpus import stopwords\n",
    "from nltk.corpus import wordnet\n",
    "from nltk import pos_tag\n",
    "from sklearn.feature_extraction.text import TfidfVectorizer\n",
    "from sklearn.decomposition import NMF\n",
    "from sklearn.manifold import TSNE"
   ]
  },
  {
   "cell_type": "code",
   "execution_count": 331,
   "metadata": {},
   "outputs": [],
   "source": [
    "def process_text(text, min_length):\n",
    "    \n",
    "    # get common stop words that we'll remove during tokenization/text normalization\n",
    "    stop_words = stopwords.words('english')\n",
    "\n",
    "    #initialize lemmatizer\n",
    "    wnl = WordNetLemmatizer()\n",
    "\n",
    "    # helper function to change nltk's part of speech tagging to a wordnet format.\n",
    "    def pos_tagger(nltk_tag):\n",
    "        if nltk_tag.startswith('J'):\n",
    "            return wordnet.ADJ\n",
    "        elif nltk_tag.startswith('V'):\n",
    "            return wordnet.VERB\n",
    "        elif nltk_tag.startswith('N'):\n",
    "            return wordnet.NOUN\n",
    "        elif nltk_tag.startswith('R'):\n",
    "            return wordnet.ADV\n",
    "        else:         \n",
    "            return None\n",
    "   \n",
    "\n",
    "    # lower case everything\n",
    "    text_lower = text.lower()\n",
    "\n",
    "    #remove mentions, hashtags, and urls, strip whitspace and breaks\n",
    "    text_lower = re.sub(r\"@[a-z0-9_]+|#[a-z0-9_]+|http\\S+\", \"\", text_lower).strip().replace(\"\\r\", \"\").replace(\"\\n\", \"\").replace(\"\\t\", \"\")\n",
    "    \n",
    "    \n",
    "    # remove stop words and punctuations \n",
    "    text_norm = [x for x in word_tokenize(text_lower) if ((x.isalpha()) & (x not in stop_words)) ]\n",
    "\n",
    "    #  POS detection on the result will be important in telling Wordnet's lemmatizer how to lemmatize\n",
    "    \n",
    "    # creates list of tuples with tokens and POS tags in wordnet format\n",
    "    wordnet_tagged = list(map(lambda x: (x[0], pos_tagger(x[1])), pos_tag(text_norm))) \n",
    "\n",
    "    # now we are going to have a cutoff here. any tokenized cocument with length < min length will be removed from corpus\n",
    "    if len(wordnet_tagged) <= min_length:\n",
    "        return ''\n",
    "    else:\n",
    "         # rejoins lemmatized sentence \n",
    "        text_norm = \" \".join([wnl.lemmatize(x[0], x[1]) for x in wordnet_tagged if x[1] is not None])\n",
    "        return text_norm"
   ]
  },
  {
   "cell_type": "code",
   "execution_count": 335,
   "metadata": {},
   "outputs": [],
   "source": [
    "hello_fresh_df['text'] = hello_fresh_df['text'].apply(process_text, args = [5])"
   ]
  },
  {
   "cell_type": "code",
   "execution_count": 343,
   "metadata": {},
   "outputs": [],
   "source": [
    "hello_fresh_new = hello_fresh_df[hello_fresh_df['text'] != '']"
   ]
  },
  {
   "cell_type": "code",
   "execution_count": 345,
   "metadata": {},
   "outputs": [],
   "source": [
    "hello_fresh_new = hello_fresh_new.reset_index(drop = True)"
   ]
  },
  {
   "cell_type": "code",
   "execution_count": 350,
   "metadata": {},
   "outputs": [
    {
     "data": {
      "text/plain": [
       "<40809x13717 sparse matrix of type '<class 'numpy.float64'>'\n",
       "\twith 869758 stored elements in Compressed Sparse Row format>"
      ]
     },
     "execution_count": 350,
     "metadata": {},
     "output_type": "execute_result"
    }
   ],
   "source": [
    "corpus = hello_fresh_new['text']\n",
    "vectorizer = TfidfVectorizer()\n",
    "corpus_vectorized = vectorizer.fit_transform(corpus)\n",
    "corpus_vectorized"
   ]
  },
  {
   "cell_type": "code",
   "execution_count": 353,
   "metadata": {},
   "outputs": [
    {
     "data": {
      "text/plain": [
       "NMF(max_iter=1000, n_components=5)"
      ]
     },
     "execution_count": 353,
     "metadata": {},
     "output_type": "execute_result"
    }
   ],
   "source": [
    "topic_model = NMF(n_components = 5, max_iter = 1000)\n",
    "topic_model.fit(corpus_vectorized)"
   ]
  },
  {
   "cell_type": "code",
   "execution_count": 354,
   "metadata": {},
   "outputs": [],
   "source": [
    "H = topic_model.transform(corpus_vectorized)\n",
    "W = topic_model.components_"
   ]
  },
  {
   "cell_type": "code",
   "execution_count": 355,
   "metadata": {},
   "outputs": [
    {
     "name": "stdout",
     "output_type": "stream",
     "text": [
      "THE TOP 10 WORDS FOR TOPIC #0\n",
      "['love', 'convenient', 'fun', 'taste', 'card', 'simple', 'step', 'excellent', 'super', 'always', 'quick', 'meal', 'fresh', 'everything', 'tasty', 'food', 'direction', 'ingredient', 'make', 'instruction', 'prepare', 'delicious', 'recipe', 'follow', 'easy']\n",
      "\n",
      "\n",
      "THE TOP 10 WORDS FOR TOPIC #1\n",
      "['meat', 'recipe', 'produce', 'item', 'go', 'first', 'good', 'call', 'give', 'use', 'cancel', 'credit', 'day', 'ingredient', 'issue', 'receive', 'miss', 'time', 'week', 'order', 'delivery', 'customer', 'get', 'service', 'box']\n",
      "\n",
      "\n",
      "THE TOP 10 WORDS FOR TOPIC #2\n",
      "['flavor', 'time', 'menu', 'well', 'really', 'little', 'experience', 'high', 'delivery', 'option', 'selection', 'portion', 'price', 'always', 'variety', 'choice', 'customer', 'excellent', 'recipe', 'taste', 'service', 'quality', 'good', 'food', 'great']\n",
      "\n",
      "\n",
      "THE TOP 10 WORDS FOR TOPIC #3\n",
      "['dinner', 'month', 'healthy', 'happy', 'recipe', 'friend', 'try', 'produce', 'time', 'absolutely', 'year', 'thank', 'best', 'food', 'highly', 'everything', 'family', 'use', 'delicious', 'recommend', 'ingredient', 'always', 'love', 'hello', 'fresh']\n",
      "\n",
      "\n",
      "THE TOP 10 WORDS FOR TOPIC #4\n",
      "['go', 'together', 'learn', 'everything', 'get', 'plan', 'grocery', 'variety', 'fun', 'thing', 'husband', 'much', 'family', 'really', 'eat', 'dinner', 'week', 'try', 'new', 'hellofresh', 'enjoy', 'make', 'love', 'cook', 'meal']\n",
      "\n",
      "\n"
     ]
    }
   ],
   "source": [
    "for index,topic in enumerate(W):\n",
    "    print(f'THE TOP 10 WORDS FOR TOPIC #{index}')\n",
    "    print([vectorizer.get_feature_names()[i] for i in topic.argsort()[-25:]])\n",
    "    print('\\n')"
   ]
  },
  {
   "cell_type": "code",
   "execution_count": 356,
   "metadata": {},
   "outputs": [],
   "source": [
    "%%capture topic_word_plot\n",
    "def plot_top_words(W, feature_names, n_top_words, title):\n",
    "    fig, axes = plt.subplots(1, 5, figsize=(15, 8), sharex=True)\n",
    "    axes = axes.flatten()\n",
    "    for topic_idx, topic in enumerate(W):\n",
    "        top_features_ind = topic.argsort()[: -n_top_words - 1 : -1]\n",
    "        top_features = [feature_names[i] for i in top_features_ind]\n",
    "        weights = topic[top_features_ind]\n",
    "\n",
    "        ax = axes[topic_idx]\n",
    "        ax.barh(top_features, weights, height=0.7)\n",
    "        ax.set_title(f\"Topic {topic_idx +1}\", fontdict={\"fontsize\": 20})\n",
    "        ax.invert_yaxis()\n",
    "        ax.tick_params(axis=\"both\", which=\"major\", labelsize=15)\n",
    "        for i in \"top right left\".split():\n",
    "            ax.spines[i].set_visible(False)\n",
    "        fig.suptitle(title, fontsize=25)\n",
    "\n",
    "    plt.subplots_adjust(top=0.90, bottom=0.05, wspace=0.90, hspace=0.3)\n",
    "    plt.show()\n",
    "\n",
    "n_top_words = 20\n",
    "tfidf_feature_names = vectorizer.get_feature_names()\n",
    "plot_top_words(W, tfidf_feature_names, n_top_words, \"Topics in NMF model\")"
   ]
  },
  {
   "cell_type": "code",
   "execution_count": 357,
   "metadata": {},
   "outputs": [
    {
     "data": {
      "image/png": "[encoded data removed]",
      "text/plain": [
       "<Figure size 1080x576 with 5 Axes>"
      ]
     },
     "metadata": {
      "needs_background": "light"
     },
     "output_type": "display_data"
    }
   ],
   "source": [
    "topic_word_plot()"
   ]
  },
  {
   "cell_type": "code",
   "execution_count": null,
   "metadata": {},
   "outputs": [],
   "source": []
  }
 ],
 "metadata": {
  "kernelspec": {
   "display_name": "Python (learn-env)",
   "language": "python",
   "name": "learn-env"
  },
  "language_info": {
   "codemirror_mode": {
    "name": "ipython",
    "version": 3
   },
   "file_extension": ".py",
   "mimetype": "text/x-python",
   "name": "python",
   "nbconvert_exporter": "python",
   "pygments_lexer": "ipython3",
   "version": "3.8.5"
  }
 },
 "nbformat": 4,
 "nbformat_minor": 4
}
