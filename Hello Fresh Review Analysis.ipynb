{
 "cells": [
  {
   "cell_type": "code",
   "execution_count": 204,
   "metadata": {},
   "outputs": [],
   "source": [
    "from bs4 import BeautifulSoup\n",
    "import requests\n",
    "import time"
   ]
  },
  {
   "cell_type": "code",
   "execution_count": 40,
   "metadata": {},
   "outputs": [],
   "source": [
    "headers = {'user-agent': \"Mozilla/5.0 (Windows NT 10.0; Win64; x64) AppleWebKit/537.36 (KHTML, like Gecko) Chrome/114.0.0.0 Safari/537.36\"}\n",
    "html_page = requests.get('https://www.trustpilot.com/review/hellofresh.com', headers = headers)\n",
    "soup = BeautifulSoup(html_page.content, 'html.parser')"
   ]
  },
  {
   "cell_type": "code",
   "execution_count": 288,
   "metadata": {},
   "outputs": [],
   "source": [
    "s = soup.prettify"
   ]
  },
  {
   "cell_type": "code",
   "execution_count": 76,
   "metadata": {},
   "outputs": [],
   "source": [
    "content = soup.find('div', class_ = \"styles_reviewContent__0Q2Tg\")"
   ]
  },
  {
   "cell_type": "code",
   "execution_count": 77,
   "metadata": {},
   "outputs": [
    {
     "data": {
      "text/plain": [
       "\"Horrible company to deal, impossible to cancel an order that hasn't even happened yet. They charge your card even if you do manage to cancel your order. No reminders at all about upcoming meals in case you wanted to cancel or suspend deliveries. Customer service on the phone is horrendous all they say is I can't do that, they'll never grab a manager to help fix the problem. Horrible Horrible company\""
      ]
     },
     "execution_count": 77,
     "metadata": {},
     "output_type": "execute_result"
    }
   ],
   "source": [
    "content.find('p').text"
   ]
  },
  {
   "cell_type": "code",
   "execution_count": 289,
   "metadata": {},
   "outputs": [],
   "source": [
    "new = soup.findAll('div', class_ = \"styles_reviewCardInner__EwDq2\")"
   ]
  },
  {
   "cell_type": "code",
   "execution_count": 290,
   "metadata": {},
   "outputs": [],
   "source": [
    "text = soup.findAll('p', class_ = 'typography_body-l__KUYFJ')"
   ]
  },
  {
   "cell_type": "code",
   "execution_count": 236,
   "metadata": {},
   "outputs": [],
   "source": [
    "def scrape_review_pages(page_start, page_end):\n",
    "    headers = {'user-agent': \"Mozilla/5.0 (Windows NT 10.0; Win64; x64) AppleWebKit/537.36 (KHTML, like Gecko) Chrome/114.0.0.0 Safari/537.36\"}\n",
    "    reviews = []\n",
    "    for i in range(page_start, page_end):\n",
    "        url = 'https://www.trustpilot.com/review/hellofresh.com?page=' + str(i)\n",
    "        try:\n",
    "            html_page = requests.get(url, headers = headers)\n",
    "            #print(url)\n",
    "            html_page.raise_for_status()\n",
    "            soup = BeautifulSoup(html_page.content, 'html.parser')\n",
    "            review_elements = soup.find_all(\"article\", class_=\"styles_reviewCard__hcAvl\")\n",
    "            for review_element in review_elements:\n",
    "                review_text = review_element.find(\"p\", class_=\"typography_body-l__KUYFJ\")\n",
    "                #print(review_text)\n",
    "                if review_text is not None:\n",
    "                    review_text = review_text.text.strip()\n",
    "                else:\n",
    "                    review_text = \"No review text available.\"\n",
    "                review_score_tag = review_element.find(\"div\", class_=\"star-rating_starRating__4rrcf\")\n",
    "                if review_score_tag is not None:\n",
    "                    review_score = int(review_score_tag.img['alt'].split()[1])\n",
    "                else:\n",
    "                    review_score = 0\n",
    "                #print(review_score)\n",
    "                review_object = {\"text\": review_text, \"score\": review_score}\n",
    "                reviews.append(review_object)\n",
    "            time.sleep(3)\n",
    "        except requests.exceptions.RequestException as e:\n",
    "            print(f\"Error fetching page {i}: {e}\")\n",
    "            continue\n",
    "    return reviews"
   ]
  },
  {
   "cell_type": "code",
   "execution_count": 222,
   "metadata": {},
   "outputs": [],
   "source": [
    "Hello_fresh_reviews = scrape_review_pages(2,275)\n",
    "hf2 = scrape_review_pages(275,447)\n",
    "hf3 = scrape_review_pages(447, 597)\n",
    "hf4 = scrape_review_pages(597, 747)\n",
    "hf5 = scrape_review_pages(747,900)\n",
    "hf6 = scrape_review_pages(900,1100)\n",
    "hf7 = scrape_review_pages(1100,1275)\n",
    "hf8 = scrape_review_pages(1275,1475)\n",
    "hf9 = scrape_review_pages(1475,1675)\n",
    "hf10 = scrape_review_pages(1675,1875)\n",
    "hf11 = scrape_review_pages(1875,2075)\n",
    "hf12 = scrape_review_pages(2075,2200)\n",
    "hf13 = scrape_review_pages(2200,2346)"
   ]
  },
  {
   "cell_type": "code",
   "execution_count": 271,
   "metadata": {},
   "outputs": [],
   "source": [
    "import pandas as pd\n",
    "df = pd.DataFrame(Hello_fresh_reviews)\n",
    "df2 = pd.DataFrame(hf2)\n",
    "df3 = pd.DataFrame(hf3)\n",
    "df4 = pd.DataFrame(hf4)\n",
    "df5 = pd.DataFrame(hf5)\n",
    "df6 = pd.DataFrame(hf6)\n",
    "df7 = pd.DataFrame(hf7)\n",
    "df8 = pd.DataFrame(hf8)\n",
    "df9 = pd.DataFrame(hf9)\n",
    "df10 = pd.DataFrame(hf10)\n",
    "df11 = pd.DataFrame(hf11)\n",
    "df12 = pd.DataFrame(hf12)\n",
    "df13 = pd.DataFrame(hf13)"
   ]
  },
  {
   "cell_type": "code",
   "execution_count": 313,
   "metadata": {
    "scrolled": true
   },
   "outputs": [],
   "source": [
    "fresh_df = pd.concat([df, df2, df3, df4, df5, df6, df7, df8, df9, df10, df11, df12, df13], 0)"
   ]
  },
  {
   "cell_type": "code",
   "execution_count": 314,
   "metadata": {},
   "outputs": [],
   "source": [
    "hello_fresh_df = fresh_df.reset_index(drop = True)"
   ]
  },
  {
   "cell_type": "code",
   "execution_count": 315,
   "metadata": {},
   "outputs": [
    {
     "data": {
      "text/html": [
       "<div>\n",
       "<style scoped>\n",
       "    .dataframe tbody tr th:only-of-type {\n",
       "        vertical-align: middle;\n",
       "    }\n",
       "\n",
       "    .dataframe tbody tr th {\n",
       "        vertical-align: top;\n",
       "    }\n",
       "\n",
       "    .dataframe thead th {\n",
       "        text-align: right;\n",
       "    }\n",
       "</style>\n",
       "<table border=\"1\" class=\"dataframe\">\n",
       "  <thead>\n",
       "    <tr style=\"text-align: right;\">\n",
       "      <th></th>\n",
       "      <th>text</th>\n",
       "      <th>score</th>\n",
       "    </tr>\n",
       "  </thead>\n",
       "  <tbody>\n",
       "    <tr>\n",
       "      <th>0</th>\n",
       "      <td>Almost everything was included to make meals a...</td>\n",
       "      <td>4</td>\n",
       "    </tr>\n",
       "    <tr>\n",
       "      <th>1</th>\n",
       "      <td>The recipes taste good and the food is fresh. ...</td>\n",
       "      <td>4</td>\n",
       "    </tr>\n",
       "    <tr>\n",
       "      <th>2</th>\n",
       "      <td>I've tried so many of the meal kit companies. ...</td>\n",
       "      <td>5</td>\n",
       "    </tr>\n",
       "    <tr>\n",
       "      <th>3</th>\n",
       "      <td>Delivery was missed altogether. Out of my 31 m...</td>\n",
       "      <td>1</td>\n",
       "    </tr>\n",
       "    <tr>\n",
       "      <th>4</th>\n",
       "      <td>The food is fresh, portioned nicely and there ...</td>\n",
       "      <td>4</td>\n",
       "    </tr>\n",
       "    <tr>\n",
       "      <th>...</th>\n",
       "      <td>...</td>\n",
       "      <td>...</td>\n",
       "    </tr>\n",
       "    <tr>\n",
       "      <th>46875</th>\n",
       "      <td>HelloFresh treated me horribly.  I signed up f...</td>\n",
       "      <td>1</td>\n",
       "    </tr>\n",
       "    <tr>\n",
       "      <th>46876</th>\n",
       "      <td>I wasn't sure about trying this but thought si...</td>\n",
       "      <td>5</td>\n",
       "    </tr>\n",
       "    <tr>\n",
       "      <th>46877</th>\n",
       "      <td>I won't bore you with all the details, but thi...</td>\n",
       "      <td>1</td>\n",
       "    </tr>\n",
       "    <tr>\n",
       "      <th>46878</th>\n",
       "      <td>I tried hello fresh for about one month.  Two ...</td>\n",
       "      <td>2</td>\n",
       "    </tr>\n",
       "    <tr>\n",
       "      <th>46879</th>\n",
       "      <td>This will be the second time I am rating this ...</td>\n",
       "      <td>1</td>\n",
       "    </tr>\n",
       "  </tbody>\n",
       "</table>\n",
       "<p>46880 rows × 2 columns</p>\n",
       "</div>"
      ],
      "text/plain": [
       "                                                    text  score\n",
       "0      Almost everything was included to make meals a...      4\n",
       "1      The recipes taste good and the food is fresh. ...      4\n",
       "2      I've tried so many of the meal kit companies. ...      5\n",
       "3      Delivery was missed altogether. Out of my 31 m...      1\n",
       "4      The food is fresh, portioned nicely and there ...      4\n",
       "...                                                  ...    ...\n",
       "46875  HelloFresh treated me horribly.  I signed up f...      1\n",
       "46876  I wasn't sure about trying this but thought si...      5\n",
       "46877  I won't bore you with all the details, but thi...      1\n",
       "46878  I tried hello fresh for about one month.  Two ...      2\n",
       "46879  This will be the second time I am rating this ...      1\n",
       "\n",
       "[46880 rows x 2 columns]"
      ]
     },
     "execution_count": 315,
     "metadata": {},
     "output_type": "execute_result"
    }
   ],
   "source": [
    "hello_fresh_df"
   ]
  },
  {
   "cell_type": "code",
   "execution_count": 316,
   "metadata": {},
   "outputs": [
    {
     "data": {
      "text/plain": [
       "Int64Index([  121,   131,   135,   141,   149,   151,   154,   158,   163,\n",
       "              165,\n",
       "            ...\n",
       "            42940, 42954, 42997, 43191, 43348, 44226, 45000, 45255, 45315,\n",
       "            45731],\n",
       "           dtype='int64', length=2352)"
      ]
     },
     "execution_count": 316,
     "metadata": {},
     "output_type": "execute_result"
    }
   ],
   "source": [
    "hello_fresh_df[hello_fresh_df['text'] == \"No review text available.\"].index"
   ]
  },
  {
   "cell_type": "code",
   "execution_count": 317,
   "metadata": {},
   "outputs": [],
   "source": [
    "hello_fresh_df = hello_fresh_df.drop(hello_fresh_df[hello_fresh_df['text'] == \"No review text available.\"].index)"
   ]
  },
  {
   "cell_type": "code",
   "execution_count": 318,
   "metadata": {},
   "outputs": [],
   "source": [
    "hello_fresh_df = hello_fresh_df.reset_index(drop=True)"
   ]
  },
  {
   "cell_type": "code",
   "execution_count": 320,
   "metadata": {},
   "outputs": [],
   "source": [
    "changing_numeric_tosentiment = {1 : \"negative\", \n",
    "                              2:\"negative\", \n",
    "                              3: \"neutral\", \n",
    "                              4: \"positive\", \n",
    "                              5: \"positive\" }\n",
    "hello_fresh_df['score'] = hello_fresh_df['score'].replace(changing_numeric_tosentiment)"
   ]
  },
  {
   "cell_type": "code",
   "execution_count": 321,
   "metadata": {},
   "outputs": [
    {
     "data": {
      "text/html": [
       "<div>\n",
       "<style scoped>\n",
       "    .dataframe tbody tr th:only-of-type {\n",
       "        vertical-align: middle;\n",
       "    }\n",
       "\n",
       "    .dataframe tbody tr th {\n",
       "        vertical-align: top;\n",
       "    }\n",
       "\n",
       "    .dataframe thead th {\n",
       "        text-align: right;\n",
       "    }\n",
       "</style>\n",
       "<table border=\"1\" class=\"dataframe\">\n",
       "  <thead>\n",
       "    <tr style=\"text-align: right;\">\n",
       "      <th></th>\n",
       "      <th>text</th>\n",
       "      <th>score</th>\n",
       "    </tr>\n",
       "  </thead>\n",
       "  <tbody>\n",
       "    <tr>\n",
       "      <th>0</th>\n",
       "      <td>Almost everything was included to make meals a...</td>\n",
       "      <td>positive</td>\n",
       "    </tr>\n",
       "    <tr>\n",
       "      <th>1</th>\n",
       "      <td>The recipes taste good and the food is fresh. ...</td>\n",
       "      <td>positive</td>\n",
       "    </tr>\n",
       "    <tr>\n",
       "      <th>2</th>\n",
       "      <td>I've tried so many of the meal kit companies. ...</td>\n",
       "      <td>positive</td>\n",
       "    </tr>\n",
       "    <tr>\n",
       "      <th>3</th>\n",
       "      <td>Delivery was missed altogether. Out of my 31 m...</td>\n",
       "      <td>negative</td>\n",
       "    </tr>\n",
       "    <tr>\n",
       "      <th>4</th>\n",
       "      <td>The food is fresh, portioned nicely and there ...</td>\n",
       "      <td>positive</td>\n",
       "    </tr>\n",
       "    <tr>\n",
       "      <th>...</th>\n",
       "      <td>...</td>\n",
       "      <td>...</td>\n",
       "    </tr>\n",
       "    <tr>\n",
       "      <th>44523</th>\n",
       "      <td>HelloFresh treated me horribly.  I signed up f...</td>\n",
       "      <td>negative</td>\n",
       "    </tr>\n",
       "    <tr>\n",
       "      <th>44524</th>\n",
       "      <td>I wasn't sure about trying this but thought si...</td>\n",
       "      <td>positive</td>\n",
       "    </tr>\n",
       "    <tr>\n",
       "      <th>44525</th>\n",
       "      <td>I won't bore you with all the details, but thi...</td>\n",
       "      <td>negative</td>\n",
       "    </tr>\n",
       "    <tr>\n",
       "      <th>44526</th>\n",
       "      <td>I tried hello fresh for about one month.  Two ...</td>\n",
       "      <td>negative</td>\n",
       "    </tr>\n",
       "    <tr>\n",
       "      <th>44527</th>\n",
       "      <td>This will be the second time I am rating this ...</td>\n",
       "      <td>negative</td>\n",
       "    </tr>\n",
       "  </tbody>\n",
       "</table>\n",
       "<p>44528 rows × 2 columns</p>\n",
       "</div>"
      ],
      "text/plain": [
       "                                                    text     score\n",
       "0      Almost everything was included to make meals a...  positive\n",
       "1      The recipes taste good and the food is fresh. ...  positive\n",
       "2      I've tried so many of the meal kit companies. ...  positive\n",
       "3      Delivery was missed altogether. Out of my 31 m...  negative\n",
       "4      The food is fresh, portioned nicely and there ...  positive\n",
       "...                                                  ...       ...\n",
       "44523  HelloFresh treated me horribly.  I signed up f...  negative\n",
       "44524  I wasn't sure about trying this but thought si...  positive\n",
       "44525  I won't bore you with all the details, but thi...  negative\n",
       "44526  I tried hello fresh for about one month.  Two ...  negative\n",
       "44527  This will be the second time I am rating this ...  negative\n",
       "\n",
       "[44528 rows x 2 columns]"
      ]
     },
     "execution_count": 321,
     "metadata": {},
     "output_type": "execute_result"
    }
   ],
   "source": [
    "hello_fresh_df"
   ]
  },
  {
   "cell_type": "code",
   "execution_count": null,
   "metadata": {},
   "outputs": [],
   "source": []
  }
 ],
 "metadata": {
  "kernelspec": {
   "display_name": "Python (learn-env)",
   "language": "python",
   "name": "learn-env"
  },
  "language_info": {
   "codemirror_mode": {
    "name": "ipython",
    "version": 3
   },
   "file_extension": ".py",
   "mimetype": "text/x-python",
   "name": "python",
   "nbconvert_exporter": "python",
   "pygments_lexer": "ipython3",
   "version": "3.8.5"
  }
 },
 "nbformat": 4,
 "nbformat_minor": 4
}
