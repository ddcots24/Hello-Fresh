{
 "cells": [
  {
   "cell_type": "markdown",
   "metadata": {},
   "source": [
    "## Web Scraping"
   ]
  },
  {
   "cell_type": "code",
   "execution_count": 5,
   "metadata": {},
   "outputs": [],
   "source": [
    "from bs4 import BeautifulSoup\n",
    "import requests\n",
    "import time\n",
    "import pandas as pd"
   ]
  },
  {
   "cell_type": "code",
   "execution_count": 2,
   "metadata": {},
   "outputs": [],
   "source": [
    "# Function to scrape the pages on the trust pilot site for the text of the review and the star rating\n",
    "# This Function starts on the second page of reviews and can go up to any number of pages\n",
    "def scrape_review_pages(page_start, page_end):\n",
    "    headers = {'user-agent': \"Mozilla/5.0 (Windows NT 10.0; Win64; x64) AppleWebKit/537.36 (KHTML, like Gecko) Chrome/114.0.0.0 Safari/537.36\"}\n",
    "    reviews = []\n",
    "    for i in range(page_start, page_end):\n",
    "        url = 'https://www.trustpilot.com/review/hellofresh.com?page=' + str(i)\n",
    "        try:\n",
    "            html_page = requests.get(url, headers = headers)\n",
    "            #print(url)\n",
    "            html_page.raise_for_status()\n",
    "            soup = BeautifulSoup(html_page.content, 'html.parser')\n",
    "            review_elements = soup.find_all(\"article\", class_=\"styles_reviewCard__hcAvl\")\n",
    "            for review_element in review_elements:\n",
    "                review_text = review_element.find(\"p\", class_=\"typography_body-l__KUYFJ\")\n",
    "                #print(review_text)\n",
    "                if review_text is not None:\n",
    "                    review_text = review_text.text.strip()\n",
    "                else:\n",
    "                    review_text = \"No review text available.\"\n",
    "                review_score_tag = review_element.find(\"div\", class_=\"star-rating_starRating__4rrcf\")\n",
    "                if review_score_tag is not None:\n",
    "                    review_score = int(review_score_tag.img['alt'].split()[1])\n",
    "                else:\n",
    "                    review_score = 0\n",
    "                #print(review_score)\n",
    "                review_object = {\"text\": review_text, \"score\": review_score}\n",
    "                reviews.append(review_object)\n",
    "            time.sleep(3)\n",
    "        except requests.exceptions.RequestException as e:\n",
    "            print(f\"Error fetching page {i}: {e}\")\n",
    "            continue\n",
    "    return reviews"
   ]
  },
  {
   "cell_type": "markdown",
   "metadata": {},
   "source": [
    "**Time to scrape**"
   ]
  },
  {
   "cell_type": "code",
   "execution_count": 3,
   "metadata": {},
   "outputs": [],
   "source": [
    "# Have to scrape the website in batches so it does not crash\n",
    "# This will take a while\n",
    "Hello_fresh_reviews = scrape_review_pages(2,275)\n",
    "hf2 = scrape_review_pages(275,447)\n",
    "hf3 = scrape_review_pages(447, 597)\n",
    "hf4 = scrape_review_pages(597, 747)\n",
    "hf5 = scrape_review_pages(747,900)\n",
    "hf6 = scrape_review_pages(900,1100)\n",
    "hf7 = scrape_review_pages(1100,1275)\n",
    "hf8 = scrape_review_pages(1275,1475)\n",
    "hf9 = scrape_review_pages(1475,1675)\n",
    "hf10 = scrape_review_pages(1675,1875)\n",
    "hf11 = scrape_review_pages(1875,2075)\n",
    "hf12 = scrape_review_pages(2075,2200)\n",
    "hf13 = scrape_review_pages(2200,2346)"
   ]
  },
  {
   "cell_type": "code",
   "execution_count": 6,
   "metadata": {},
   "outputs": [],
   "source": [
    "# Saving each batch as a DataFrame\n",
    "df = pd.DataFrame(Hello_fresh_reviews)\n",
    "df2 = pd.DataFrame(hf2)\n",
    "df3 = pd.DataFrame(hf3)\n",
    "df4 = pd.DataFrame(hf4)\n",
    "df5 = pd.DataFrame(hf5)\n",
    "df6 = pd.DataFrame(hf6)\n",
    "df7 = pd.DataFrame(hf7)\n",
    "df8 = pd.DataFrame(hf8)\n",
    "df9 = pd.DataFrame(hf9)\n",
    "df10 = pd.DataFrame(hf10)\n",
    "df11 = pd.DataFrame(hf11)\n",
    "df12 = pd.DataFrame(hf12)\n",
    "df13 = pd.DataFrame(hf13)"
   ]
  },
  {
   "cell_type": "code",
   "execution_count": 7,
   "metadata": {
    "scrolled": true
   },
   "outputs": [],
   "source": [
    "# Concatenating all the DataFrames\n",
    "fresh_df = pd.concat([df, df2, df3, df4, df5, df6, df7, df8, df9, df10, df11, df12, df13], 0)"
   ]
  },
  {
   "cell_type": "code",
   "execution_count": 10,
   "metadata": {},
   "outputs": [],
   "source": [
    "# Resetting the index so that it is continuos\n",
    "hello_fresh_df = fresh_df.reset_index(drop = True)"
   ]
  },
  {
   "cell_type": "code",
   "execution_count": 11,
   "metadata": {},
   "outputs": [],
   "source": [
    "# Dropping all of the rows that have \"No review text available.\"\n",
    "hello_fresh_df = hello_fresh_df.drop(hello_fresh_df[hello_fresh_df['text'] == \"No review text available.\"].index)"
   ]
  },
  {
   "cell_type": "code",
   "execution_count": 12,
   "metadata": {},
   "outputs": [],
   "source": [
    "# Resetting the index again\n",
    "hello_fresh_df = hello_fresh_df.reset_index(drop=True)"
   ]
  },
  {
   "cell_type": "code",
   "execution_count": 13,
   "metadata": {},
   "outputs": [],
   "source": [
    "# Changing the numeric star rating to positive/neutral/negative sentiments\n",
    "changing_numeric_tosentiment = {1: \"negative\", \n",
    "                                2: \"negative\", \n",
    "                                3: \"neutral\", \n",
    "                                4: \"positive\", \n",
    "                                5: \"positive\" }\n",
    "hello_fresh_df['score'] = hello_fresh_df['score'].replace(changing_numeric_tosentiment)"
   ]
  },
  {
   "cell_type": "code",
   "execution_count": 16,
   "metadata": {},
   "outputs": [],
   "source": [
    "# Saving the dataframe to a csv\n",
    "hello_fresh_df.to_csv(\"hello_fresh_reviews.csv\")"
   ]
  },
  {
   "cell_type": "markdown",
   "metadata": {},
   "source": [
    "**Important to save as a csv so you do not have to go through scraping process again!**"
   ]
  },
  {
   "cell_type": "markdown",
   "metadata": {},
   "source": [
    "## Topic Modeling - Unsupervised Learning"
   ]
  },
  {
   "cell_type": "code",
   "execution_count": 17,
   "metadata": {},
   "outputs": [],
   "source": [
    "# Importing packages need for topic modeling (Pandas has already been uploaded)\n",
    "import numpy as np\n",
    "import seaborn as sns\n",
    "import matplotlib.pyplot as plt\n",
    "import re  \n",
    "import nltk \n",
    "from nltk.tokenize import word_tokenize\n",
    "from nltk import WordNetLemmatizer\n",
    "from nltk.corpus import stopwords\n",
    "from nltk.corpus import wordnet\n",
    "from nltk import pos_tag\n",
    "from sklearn.feature_extraction.text import TfidfVectorizer\n",
    "from sklearn.decomposition import NMF\n",
    "from sklearn.manifold import TSNE"
   ]
  },
  {
   "cell_type": "code",
   "execution_count": 18,
   "metadata": {},
   "outputs": [],
   "source": [
    "# Creating a function to preprocess my text to get ready for topic modeling and NLP\n",
    "def process_text(text, min_length):\n",
    "    \n",
    "    # get common stop words that we'll remove during tokenization/text normalization\n",
    "    stop_words = stopwords.words('english')\n",
    "\n",
    "    #initialize lemmatizer\n",
    "    wnl = WordNetLemmatizer()\n",
    "\n",
    "    # helper function to change nltk's part of speech tagging to a wordnet format.\n",
    "    def pos_tagger(nltk_tag):\n",
    "        if nltk_tag.startswith('J'):\n",
    "            return wordnet.ADJ\n",
    "        elif nltk_tag.startswith('V'):\n",
    "            return wordnet.VERB\n",
    "        elif nltk_tag.startswith('N'):\n",
    "            return wordnet.NOUN\n",
    "        elif nltk_tag.startswith('R'):\n",
    "            return wordnet.ADV\n",
    "        else:         \n",
    "            return None\n",
    "   \n",
    "\n",
    "    # lower case everything\n",
    "    text_lower = text.lower()\n",
    "\n",
    "    #remove mentions, hashtags, and urls, strip whitspace and breaks\n",
    "    text_lower = re.sub(r\"@[a-z0-9_]+|#[a-z0-9_]+|http\\S+\", \"\", text_lower).strip().replace(\"\\r\", \"\").replace(\"\\n\", \"\").replace(\"\\t\", \"\")\n",
    "    \n",
    "    \n",
    "    # remove stop words and punctuations \n",
    "    text_norm = [x for x in word_tokenize(text_lower) if ((x.isalpha()) & (x not in stop_words)) ]\n",
    "\n",
    "    #  POS detection on the result will be important in telling Wordnet's lemmatizer how to lemmatize\n",
    "    \n",
    "    # creates list of tuples with tokens and POS tags in wordnet format\n",
    "    wordnet_tagged = list(map(lambda x: (x[0], pos_tagger(x[1])), pos_tag(text_norm))) \n",
    "\n",
    "    # now we are going to have a cutoff here. any tokenized cocument with length < min length will be removed from corpus\n",
    "    if len(wordnet_tagged) <= min_length:\n",
    "        return ''\n",
    "    else:\n",
    "         # rejoins lemmatized sentence \n",
    "        text_norm = \" \".join([wnl.lemmatize(x[0], x[1]) for x in wordnet_tagged if x[1] is not None])\n",
    "        return text_norm"
   ]
  },
  {
   "cell_type": "code",
   "execution_count": 21,
   "metadata": {},
   "outputs": [],
   "source": [
    "# Loading in the saved csv from web scraping and saving it to a Data Frame\n",
    "hello_df = pd.read_csv(\"hello_fresh_reviews.csv\").drop(columns = 'Unnamed: 0')"
   ]
  },
  {
   "cell_type": "code",
   "execution_count": 23,
   "metadata": {},
   "outputs": [],
   "source": [
    "# Applying the preprocessing function to the text part of the Data Frame\n",
    "hello_df['text'] = hello_df['text'].apply(process_text, args = [5])"
   ]
  },
  {
   "cell_type": "code",
   "execution_count": 24,
   "metadata": {},
   "outputs": [],
   "source": [
    "# Getting rid of any rows that might have been wiped out from cleaning\n",
    "hello_fresh_new = hello_df[hello_df['text'] != '']"
   ]
  },
  {
   "cell_type": "code",
   "execution_count": 25,
   "metadata": {},
   "outputs": [],
   "source": [
    "# Resetting index\n",
    "hello_fresh_new = hello_fresh_new.reset_index(drop = True)"
   ]
  },
  {
   "cell_type": "code",
   "execution_count": 27,
   "metadata": {},
   "outputs": [],
   "source": [
    "# Creating a corupus and vectorizing it\n",
    "corpus = hello_fresh_new['text']\n",
    "vectorizer = TfidfVectorizer()\n",
    "corpus_vectorized = vectorizer.fit_transform(corpus)"
   ]
  },
  {
   "cell_type": "code",
   "execution_count": 40,
   "metadata": {},
   "outputs": [
    {
     "data": {
      "text/plain": [
       "NMF(max_iter=1000, n_components=4)"
      ]
     },
     "execution_count": 40,
     "metadata": {},
     "output_type": "execute_result"
    }
   ],
   "source": [
    "# Instantiating NMF and fitting the vectorized corpus\n",
    "topic_model = NMF(n_components = 4, max_iter = 1000)\n",
    "topic_model.fit(corpus_vectorized)"
   ]
  },
  {
   "cell_type": "code",
   "execution_count": 41,
   "metadata": {},
   "outputs": [],
   "source": [
    "# H encodes the weight of the fitted topics for each document\n",
    "# W encodes the importance of each token in the fitted topics\n",
    "H = topic_model.transform(corpus_vectorized)\n",
    "W = topic_model.components_"
   ]
  },
  {
   "cell_type": "code",
   "execution_count": 42,
   "metadata": {},
   "outputs": [
    {
     "name": "stdout",
     "output_type": "stream",
     "text": [
      "THE TOP 10 WORDS FOR TOPIC #0\n",
      "['together', 'plan', 'get', 'grocery', 'variety', 'thing', 'prepare', 'everything', 'fun', 'husband', 'much', 'family', 'really', 'delicious', 'eat', 'dinner', 'week', 'try', 'new', 'hellofresh', 'enjoy', 'make', 'love', 'cook', 'meal']\n",
      "\n",
      "\n",
      "THE TOP 10 WORDS FOR TOPIC #1\n",
      "['call', 'go', 'meat', 'produce', 'give', 'cancel', 'use', 'credit', 'quality', 'great', 'day', 'ingredient', 'receive', 'miss', 'issue', 'food', 'week', 'order', 'get', 'time', 'good', 'delivery', 'customer', 'box', 'service']\n",
      "\n",
      "\n",
      "THE TOP 10 WORDS FOR TOPIC #2\n",
      "['simple', 'quick', 'selection', 'variety', 'choice', 'everything', 'portion', 'fresh', 'tasty', 'always', 'ingredient', 'excellent', 'make', 'direction', 'taste', 'prepare', 'quality', 'good', 'instruction', 'delicious', 'follow', 'food', 'great', 'recipe', 'easy']\n",
      "\n",
      "\n",
      "THE TOP 10 WORDS FOR TOPIC #3\n",
      "['life', 'month', 'dinner', 'healthy', 'happy', 'friend', 'time', 'try', 'produce', 'year', 'absolutely', 'best', 'thank', 'recipe', 'highly', 'everything', 'family', 'use', 'recommend', 'delicious', 'ingredient', 'always', 'love', 'hello', 'fresh']\n",
      "\n",
      "\n"
     ]
    }
   ],
   "source": [
    "# For loop gives us words with the heighest weights for each topic\n",
    "for index,topic in enumerate(W):\n",
    "    print(f'THE TOP 10 WORDS FOR TOPIC #{index}')\n",
    "    print([vectorizer.get_feature_names()[i] for i in topic.argsort()[-25:]])\n",
    "    print('\\n')"
   ]
  },
  {
   "cell_type": "code",
   "execution_count": 43,
   "metadata": {},
   "outputs": [],
   "source": [
    "%%capture topic_word_plot\n",
    "# Visualizing the most important words and weights for each topic\n",
    "def plot_top_words(W, feature_names, n_top_words, title):\n",
    "    fig, axes = plt.subplots(1, 4, figsize=(15, 8), sharex=True)\n",
    "    axes = axes.flatten()\n",
    "    for topic_idx, topic in enumerate(W):\n",
    "        top_features_ind = topic.argsort()[: -n_top_words - 1 : -1]\n",
    "        top_features = [feature_names[i] for i in top_features_ind]\n",
    "        weights = topic[top_features_ind]\n",
    "\n",
    "        ax = axes[topic_idx]\n",
    "        ax.barh(top_features, weights, height=0.7)\n",
    "        ax.set_title(f\"Topic {topic_idx +1}\", fontdict={\"fontsize\": 20})\n",
    "        ax.invert_yaxis()\n",
    "        ax.tick_params(axis=\"both\", which=\"major\", labelsize=15)\n",
    "        for i in \"top right left\".split():\n",
    "            ax.spines[i].set_visible(False)\n",
    "        fig.suptitle(title, fontsize=25)\n",
    "\n",
    "    plt.subplots_adjust(top=0.90, bottom=0.05, wspace=0.90, hspace=0.3)\n",
    "    plt.show()\n",
    "\n",
    "n_top_words = 20\n",
    "tfidf_feature_names = vectorizer.get_feature_names()\n",
    "plot_top_words(W, tfidf_feature_names, n_top_words, \"Topics in NMF model\")"
   ]
  },
  {
   "cell_type": "code",
   "execution_count": 44,
   "metadata": {},
   "outputs": [
    {
     "data": {
      "image/png": "[encoded data removed]",
      "text/plain": [
       "<Figure size 1080x576 with 4 Axes>"
      ]
     },
     "metadata": {
      "needs_background": "light"
     },
     "output_type": "display_data"
    }
   ],
   "source": [
    "topic_word_plot()"
   ]
  },
  {
   "cell_type": "code",
   "execution_count": null,
   "metadata": {},
   "outputs": [],
   "source": []
  }
 ],
 "metadata": {
  "kernelspec": {
   "display_name": "Python (learn-env)",
   "language": "python",
   "name": "learn-env"
  },
  "language_info": {
   "codemirror_mode": {
    "name": "ipython",
    "version": 3
   },
   "file_extension": ".py",
   "mimetype": "text/x-python",
   "name": "python",
   "nbconvert_exporter": "python",
   "pygments_lexer": "ipython3",
   "version": "3.8.5"
  }
 },
 "nbformat": 4,
 "nbformat_minor": 4
}
